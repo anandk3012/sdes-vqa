{
 "cells": [
  {
   "cell_type": "code",
   "execution_count": 1,
   "id": "8c2d81dc",
   "metadata": {},
   "outputs": [],
   "source": [
    "import csv\n",
    "\n",
    "nodes = [\n",
    "    {\"ID\": \"1\", \"Label\": \"Start: Input Ciphertext\", \"Shape\": \"ellipse\", \"Target\": \"2\"},\n",
    "    {\"ID\": \"2\", \"Label\": \"Build Hamiltonian from SDES\", \"Shape\": \"rectangle\", \"Target\": \"3\"},\n",
    "    {\"ID\": \"3\", \"Label\": \"Initialize Parameterized Quantum Circuit\", \"Shape\": \"rectangle\", \"Target\": \"4\"},\n",
    "    {\"ID\": \"4\", \"Label\": \"Run Circuit & Measure\", \"Shape\": \"rectangle\", \"Target\": \"5\"},\n",
    "    {\"ID\": \"5\", \"Label\": \"Calculate Cost Function\", \"Shape\": \"rectangle\", \"Target\": \"6\"},\n",
    "    {\"ID\": \"6\", \"Label\": \"Optimize Parameters (Gradient Descent)\", \"Shape\": \"rectangle\", \"Target\": \"7\"},\n",
    "    {\"ID\": \"7\", \"Label\": \"Check Convergence\", \"Shape\": \"diamond\", \"Target\": \"8\"},\n",
    "    {\"ID\": \"8\", \"Label\": \"Output Approximate Key\", \"Shape\": \"ellipse\", \"Target\": \"\"},\n",
    "]\n",
    "\n",
    "with open(\"vqa_flowchart.csv\", mode='w', newline='') as file:\n",
    "    writer = csv.writer(file)\n",
    "    writer.writerow([\"ID\", \"Label\", \"Shape\", \"Target\"])\n",
    "    for node in nodes:\n",
    "        writer.writerow([node[\"ID\"], node[\"Label\"], node[\"Shape\"], node[\"Target\"]])\n"
   ]
  }
 ],
 "metadata": {
  "kernelspec": {
   "display_name": "env",
   "language": "python",
   "name": "python3"
  },
  "language_info": {
   "codemirror_mode": {
    "name": "ipython",
    "version": 3
   },
   "file_extension": ".py",
   "mimetype": "text/x-python",
   "name": "python",
   "nbconvert_exporter": "python",
   "pygments_lexer": "ipython3",
   "version": "3.13.0"
  }
 },
 "nbformat": 4,
 "nbformat_minor": 5
}
